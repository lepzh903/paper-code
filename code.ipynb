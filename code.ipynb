{
 "cells": [
  {
   "cell_type": "code",
   "execution_count": 208,
   "id": "16945a99",
   "metadata": {
    "ExecuteTime": {
     "end_time": "2025-01-14T15:33:35.509087Z",
     "start_time": "2025-01-14T15:33:35.501085Z"
    }
   },
   "outputs": [],
   "source": [
    "import pandas as pd\n",
    "import string\n",
    "import nltk\n",
    "from nltk.corpus import stopwords\n",
    "from nltk.stem import WordNetLemmatizer"
   ]
  },
  {
   "cell_type": "code",
   "execution_count": 209,
   "id": "70ee85db",
   "metadata": {
    "ExecuteTime": {
     "end_time": "2025-01-14T15:33:36.431623Z",
     "start_time": "2025-01-14T15:33:35.963476Z"
    }
   },
   "outputs": [],
   "source": [
    "email_df = pd.read_csv(\"email.csv\")\n",
    "phish_df = pd.read_csv(\"Phishing_Email.csv\")"
   ]
  },
  {
   "cell_type": "code",
   "execution_count": 210,
   "id": "87f2cbe5",
   "metadata": {
    "ExecuteTime": {
     "end_time": "2025-01-14T15:33:37.471277Z",
     "start_time": "2025-01-14T15:33:37.452277Z"
    }
   },
   "outputs": [
    {
     "data": {
      "text/plain": [
       "Category\n",
       "ham               4825\n",
       "spam               747\n",
       "{\"mode\":\"full\"       1\n",
       "Name: count, dtype: int64"
      ]
     },
     "execution_count": 210,
     "metadata": {},
     "output_type": "execute_result"
    }
   ],
   "source": [
    "email_df['Category'].value_counts()"
   ]
  },
  {
   "cell_type": "code",
   "execution_count": 211,
   "id": "a29c971e",
   "metadata": {
    "ExecuteTime": {
     "end_time": "2025-01-14T15:33:40.131157Z",
     "start_time": "2025-01-14T15:33:40.124149Z"
    }
   },
   "outputs": [
    {
     "data": {
      "text/plain": [
       "Email Type\n",
       "Safe Email        11322\n",
       "Phishing Email     7328\n",
       "Name: count, dtype: int64"
      ]
     },
     "execution_count": 211,
     "metadata": {},
     "output_type": "execute_result"
    }
   ],
   "source": [
    "phish_df['Email Type'].value_counts()"
   ]
  },
  {
   "cell_type": "code",
   "execution_count": 212,
   "id": "f8ab3b12",
   "metadata": {
    "ExecuteTime": {
     "end_time": "2025-01-14T15:33:42.514819Z",
     "start_time": "2025-01-14T15:33:42.492262Z"
    }
   },
   "outputs": [],
   "source": [
    "phish_df = phish_df.iloc[:, [2, 1, 0] + list(range(3, phish_df.shape[1]))]\n",
    "phish_df.columns = ['Category', 'Message'] + list(phish_df.columns[2:])\n",
    "phish_df = phish_df.iloc[:, :-1]\n",
    "merged_df = pd.concat([phish_df, email_df], ignore_index=True)"
   ]
  },
  {
   "cell_type": "code",
   "execution_count": 213,
   "id": "1ba0d28b",
   "metadata": {
    "ExecuteTime": {
     "end_time": "2025-01-14T15:33:45.322443Z",
     "start_time": "2025-01-14T15:33:45.308444Z"
    }
   },
   "outputs": [
    {
     "data": {
      "text/html": [
       "<div>\n",
       "<style scoped>\n",
       "    .dataframe tbody tr th:only-of-type {\n",
       "        vertical-align: middle;\n",
       "    }\n",
       "\n",
       "    .dataframe tbody tr th {\n",
       "        vertical-align: top;\n",
       "    }\n",
       "\n",
       "    .dataframe thead th {\n",
       "        text-align: right;\n",
       "    }\n",
       "</style>\n",
       "<table border=\"1\" class=\"dataframe\">\n",
       "  <thead>\n",
       "    <tr style=\"text-align: right;\">\n",
       "      <th></th>\n",
       "      <th>Category</th>\n",
       "      <th>Message</th>\n",
       "    </tr>\n",
       "  </thead>\n",
       "  <tbody>\n",
       "    <tr>\n",
       "      <th>0</th>\n",
       "      <td>Safe Email</td>\n",
       "      <td>re : 6 . 1100 , disc : uniformitarianism , re ...</td>\n",
       "    </tr>\n",
       "    <tr>\n",
       "      <th>1</th>\n",
       "      <td>Safe Email</td>\n",
       "      <td>the other side of * galicismos * * galicismo *...</td>\n",
       "    </tr>\n",
       "    <tr>\n",
       "      <th>2</th>\n",
       "      <td>Safe Email</td>\n",
       "      <td>re : equistar deal tickets are you still avail...</td>\n",
       "    </tr>\n",
       "    <tr>\n",
       "      <th>3</th>\n",
       "      <td>Phishing Email</td>\n",
       "      <td>\\nHello I am your hot lil horny toy.\\n    I am...</td>\n",
       "    </tr>\n",
       "    <tr>\n",
       "      <th>4</th>\n",
       "      <td>Phishing Email</td>\n",
       "      <td>software at incredibly low prices ( 86 % lower...</td>\n",
       "    </tr>\n",
       "    <tr>\n",
       "      <th>...</th>\n",
       "      <td>...</td>\n",
       "      <td>...</td>\n",
       "    </tr>\n",
       "    <tr>\n",
       "      <th>24218</th>\n",
       "      <td>ham</td>\n",
       "      <td>Will ü b going to esplanade fr home?</td>\n",
       "    </tr>\n",
       "    <tr>\n",
       "      <th>24219</th>\n",
       "      <td>ham</td>\n",
       "      <td>Pity, * was in mood for that. So...any other s...</td>\n",
       "    </tr>\n",
       "    <tr>\n",
       "      <th>24220</th>\n",
       "      <td>ham</td>\n",
       "      <td>The guy did some bitching but I acted like i'd...</td>\n",
       "    </tr>\n",
       "    <tr>\n",
       "      <th>24221</th>\n",
       "      <td>ham</td>\n",
       "      <td>Rofl. Its true to its name</td>\n",
       "    </tr>\n",
       "    <tr>\n",
       "      <th>24222</th>\n",
       "      <td>{\"mode\":\"full\"</td>\n",
       "      <td>isActive:false}</td>\n",
       "    </tr>\n",
       "  </tbody>\n",
       "</table>\n",
       "<p>24223 rows × 2 columns</p>\n",
       "</div>"
      ],
      "text/plain": [
       "             Category                                            Message\n",
       "0          Safe Email  re : 6 . 1100 , disc : uniformitarianism , re ...\n",
       "1          Safe Email  the other side of * galicismos * * galicismo *...\n",
       "2          Safe Email  re : equistar deal tickets are you still avail...\n",
       "3      Phishing Email  \\nHello I am your hot lil horny toy.\\n    I am...\n",
       "4      Phishing Email  software at incredibly low prices ( 86 % lower...\n",
       "...               ...                                                ...\n",
       "24218             ham               Will ü b going to esplanade fr home?\n",
       "24219             ham  Pity, * was in mood for that. So...any other s...\n",
       "24220             ham  The guy did some bitching but I acted like i'd...\n",
       "24221             ham                         Rofl. Its true to its name\n",
       "24222  {\"mode\":\"full\"                                    isActive:false}\n",
       "\n",
       "[24223 rows x 2 columns]"
      ]
     },
     "execution_count": 213,
     "metadata": {},
     "output_type": "execute_result"
    }
   ],
   "source": [
    "merged_df"
   ]
  },
  {
   "cell_type": "code",
   "execution_count": 214,
   "id": "c62321cd",
   "metadata": {
    "ExecuteTime": {
     "end_time": "2025-01-14T15:33:48.313601Z",
     "start_time": "2025-01-14T15:33:48.308599Z"
    }
   },
   "outputs": [
    {
     "data": {
      "text/plain": [
       "array(['Safe Email', 'Phishing Email', 'ham', 'spam', '{\"mode\":\"full\"'],\n",
       "      dtype=object)"
      ]
     },
     "execution_count": 214,
     "metadata": {},
     "output_type": "execute_result"
    }
   ],
   "source": [
    "merged_df.Category.unique()"
   ]
  },
  {
   "cell_type": "code",
   "execution_count": 215,
   "id": "dee0f4aa",
   "metadata": {
    "ExecuteTime": {
     "end_time": "2025-01-14T15:33:49.570618Z",
     "start_time": "2025-01-14T15:33:49.552560Z"
    }
   },
   "outputs": [],
   "source": [
    "valid_labels = ['Safe Email', 'Phishing Email', 'ham', 'spam']\n",
    "filtered_df = merged_df[merged_df['Category'].isin(valid_labels)].copy()\n",
    "label_mapping = {'ham': 0, 'spam': 1,'Safe Email': 0, 'Phishing Email': 1}\n",
    "filtered_df['Category'] = filtered_df['Category'].map(label_mapping)"
   ]
  },
  {
   "cell_type": "code",
   "execution_count": 216,
   "id": "79166dd6",
   "metadata": {
    "ExecuteTime": {
     "end_time": "2025-01-14T15:33:49.928539Z",
     "start_time": "2025-01-14T15:33:49.910449Z"
    }
   },
   "outputs": [
    {
     "data": {
      "text/html": [
       "<div>\n",
       "<style scoped>\n",
       "    .dataframe tbody tr th:only-of-type {\n",
       "        vertical-align: middle;\n",
       "    }\n",
       "\n",
       "    .dataframe tbody tr th {\n",
       "        vertical-align: top;\n",
       "    }\n",
       "\n",
       "    .dataframe thead th {\n",
       "        text-align: right;\n",
       "    }\n",
       "</style>\n",
       "<table border=\"1\" class=\"dataframe\">\n",
       "  <thead>\n",
       "    <tr style=\"text-align: right;\">\n",
       "      <th></th>\n",
       "      <th>Category</th>\n",
       "      <th>Message</th>\n",
       "    </tr>\n",
       "  </thead>\n",
       "  <tbody>\n",
       "    <tr>\n",
       "      <th>0</th>\n",
       "      <td>0</td>\n",
       "      <td>re : 6 . 1100 , disc : uniformitarianism , re ...</td>\n",
       "    </tr>\n",
       "    <tr>\n",
       "      <th>1</th>\n",
       "      <td>0</td>\n",
       "      <td>the other side of * galicismos * * galicismo *...</td>\n",
       "    </tr>\n",
       "    <tr>\n",
       "      <th>2</th>\n",
       "      <td>0</td>\n",
       "      <td>re : equistar deal tickets are you still avail...</td>\n",
       "    </tr>\n",
       "    <tr>\n",
       "      <th>3</th>\n",
       "      <td>1</td>\n",
       "      <td>\\nHello I am your hot lil horny toy.\\n    I am...</td>\n",
       "    </tr>\n",
       "    <tr>\n",
       "      <th>4</th>\n",
       "      <td>1</td>\n",
       "      <td>software at incredibly low prices ( 86 % lower...</td>\n",
       "    </tr>\n",
       "    <tr>\n",
       "      <th>...</th>\n",
       "      <td>...</td>\n",
       "      <td>...</td>\n",
       "    </tr>\n",
       "    <tr>\n",
       "      <th>24217</th>\n",
       "      <td>1</td>\n",
       "      <td>This is the 2nd time we have tried 2 contact u...</td>\n",
       "    </tr>\n",
       "    <tr>\n",
       "      <th>24218</th>\n",
       "      <td>0</td>\n",
       "      <td>Will ü b going to esplanade fr home?</td>\n",
       "    </tr>\n",
       "    <tr>\n",
       "      <th>24219</th>\n",
       "      <td>0</td>\n",
       "      <td>Pity, * was in mood for that. So...any other s...</td>\n",
       "    </tr>\n",
       "    <tr>\n",
       "      <th>24220</th>\n",
       "      <td>0</td>\n",
       "      <td>The guy did some bitching but I acted like i'd...</td>\n",
       "    </tr>\n",
       "    <tr>\n",
       "      <th>24221</th>\n",
       "      <td>0</td>\n",
       "      <td>Rofl. Its true to its name</td>\n",
       "    </tr>\n",
       "  </tbody>\n",
       "</table>\n",
       "<p>24222 rows × 2 columns</p>\n",
       "</div>"
      ],
      "text/plain": [
       "       Category                                            Message\n",
       "0             0  re : 6 . 1100 , disc : uniformitarianism , re ...\n",
       "1             0  the other side of * galicismos * * galicismo *...\n",
       "2             0  re : equistar deal tickets are you still avail...\n",
       "3             1  \\nHello I am your hot lil horny toy.\\n    I am...\n",
       "4             1  software at incredibly low prices ( 86 % lower...\n",
       "...         ...                                                ...\n",
       "24217         1  This is the 2nd time we have tried 2 contact u...\n",
       "24218         0               Will ü b going to esplanade fr home?\n",
       "24219         0  Pity, * was in mood for that. So...any other s...\n",
       "24220         0  The guy did some bitching but I acted like i'd...\n",
       "24221         0                         Rofl. Its true to its name\n",
       "\n",
       "[24222 rows x 2 columns]"
      ]
     },
     "execution_count": 216,
     "metadata": {},
     "output_type": "execute_result"
    }
   ],
   "source": [
    "filtered_df"
   ]
  },
  {
   "cell_type": "code",
   "execution_count": 217,
   "id": "4000b798",
   "metadata": {
    "ExecuteTime": {
     "end_time": "2025-01-14T15:33:53.203199Z",
     "start_time": "2025-01-14T15:33:53.188214Z"
    }
   },
   "outputs": [
    {
     "name": "stdout",
     "output_type": "stream",
     "text": [
      "Count of 0 (Safe/ham): 16147\n",
      "Count of 1 (Phishing/spam): 8075\n",
      "Proportion of 0: 66.66%\n",
      "Proportion of 1: 33.34%\n"
     ]
    }
   ],
   "source": [
    "label_counts = filtered_df['Category'].value_counts()\n",
    "\n",
    "count_0 = label_counts.get(0, 0)  \n",
    "count_1 = label_counts.get(1, 0)  \n",
    "\n",
    "total = count_0 + count_1\n",
    "proportion_0 = count_0 / total if total > 0 else 0\n",
    "proportion_1 = count_1 / total if total > 0 else 0\n",
    "\n",
    "print(f\"Count of 0 (Safe/ham): {count_0}\")\n",
    "print(f\"Count of 1 (Phishing/spam): {count_1}\")\n",
    "print(f\"Proportion of 0: {proportion_0:.2%}\")\n",
    "print(f\"Proportion of 1: {proportion_1:.2%}\")"
   ]
  },
  {
   "cell_type": "code",
   "execution_count": 218,
   "id": "391ba61d",
   "metadata": {
    "ExecuteTime": {
     "end_time": "2025-01-14T15:33:55.455875Z",
     "start_time": "2025-01-14T15:33:55.432873Z"
    }
   },
   "outputs": [
    {
     "name": "stdout",
     "output_type": "stream",
     "text": [
      "Category\n",
      "0    8075\n",
      "1    8075\n",
      "Name: count, dtype: int64\n"
     ]
    }
   ],
   "source": [
    "ham = filtered_df[filtered_df['Category'] == 0]\n",
    "spam = filtered_df[filtered_df['Category'] == 1]\n",
    "ham_downsampled = ham.sample(n=len(spam), random_state=42)\n",
    "balanced_df = pd.concat([ham_downsampled, spam], axis=0).reset_index(drop=True)\n",
    "balanced_df = balanced_df.sample(frac=1, random_state=42).reset_index(drop=True)\n",
    "\n",
    "print(balanced_df['Category'].value_counts())"
   ]
  },
  {
   "cell_type": "code",
   "execution_count": 219,
   "id": "c197a1d6",
   "metadata": {
    "ExecuteTime": {
     "end_time": "2025-01-14T15:33:59.319372Z",
     "start_time": "2025-01-14T15:33:59.300283Z"
    }
   },
   "outputs": [
    {
     "name": "stderr",
     "output_type": "stream",
     "text": [
      "[nltk_data] Downloading package punkt to\n",
      "[nltk_data]     C:\\Users\\zlp\\AppData\\Roaming\\nltk_data...\n",
      "[nltk_data]   Package punkt is already up-to-date!\n",
      "[nltk_data] Downloading package wordnet to\n",
      "[nltk_data]     C:\\Users\\zlp\\AppData\\Roaming\\nltk_data...\n",
      "[nltk_data]   Package wordnet is already up-to-date!\n",
      "[nltk_data] Downloading package stopwords to\n",
      "[nltk_data]     C:\\Users\\zlp\\AppData\\Roaming\\nltk_data...\n",
      "[nltk_data]   Package stopwords is already up-to-date!\n",
      "[nltk_data] Downloading package punkt_tab to\n",
      "[nltk_data]     C:\\Users\\zlp\\AppData\\Roaming\\nltk_data...\n",
      "[nltk_data]   Package punkt_tab is already up-to-date!\n"
     ]
    },
    {
     "data": {
      "text/plain": [
       "True"
      ]
     },
     "execution_count": 219,
     "metadata": {},
     "output_type": "execute_result"
    }
   ],
   "source": [
    "nltk.download('punkt')\n",
    "nltk.download('wordnet')\n",
    "nltk.download('stopwords')\n",
    "nltk.download('punkt_tab')"
   ]
  },
  {
   "cell_type": "code",
   "execution_count": 220,
   "id": "e666854d",
   "metadata": {
    "ExecuteTime": {
     "end_time": "2025-01-14T15:34:00.175382Z",
     "start_time": "2025-01-14T15:34:00.158382Z"
    }
   },
   "outputs": [
    {
     "name": "stdout",
     "output_type": "stream",
     "text": [
      "Number of stopwords: 179\n",
      "Stopwords list: ['i', 'me', 'my', 'myself', 'we', 'our', 'ours', 'ourselves', 'you', \"you're\", \"you've\", \"you'll\", \"you'd\", 'your', 'yours', 'yourself', 'yourselves', 'he', 'him', 'his', 'himself', 'she', \"she's\", 'her', 'hers', 'herself', 'it', \"it's\", 'its', 'itself', 'they', 'them', 'their', 'theirs', 'themselves', 'what', 'which', 'who', 'whom', 'this', 'that', \"that'll\", 'these', 'those', 'am', 'is', 'are', 'was', 'were', 'be', 'been', 'being', 'have', 'has', 'had', 'having', 'do', 'does', 'did', 'doing', 'a', 'an', 'the', 'and', 'but', 'if', 'or', 'because', 'as', 'until', 'while', 'of', 'at', 'by', 'for', 'with', 'about', 'against', 'between', 'into', 'through', 'during', 'before', 'after', 'above', 'below', 'to', 'from', 'up', 'down', 'in', 'out', 'on', 'off', 'over', 'under', 'again', 'further', 'then', 'once', 'here', 'there', 'when', 'where', 'why', 'how', 'all', 'any', 'both', 'each', 'few', 'more', 'most', 'other', 'some', 'such', 'no', 'nor', 'not', 'only', 'own', 'same', 'so', 'than', 'too', 'very', 's', 't', 'can', 'will', 'just', 'don', \"don't\", 'should', \"should've\", 'now', 'd', 'll', 'm', 'o', 're', 've', 'y', 'ain', 'aren', \"aren't\", 'couldn', \"couldn't\", 'didn', \"didn't\", 'doesn', \"doesn't\", 'hadn', \"hadn't\", 'hasn', \"hasn't\", 'haven', \"haven't\", 'isn', \"isn't\", 'ma', 'mightn', \"mightn't\", 'mustn', \"mustn't\", 'needn', \"needn't\", 'shan', \"shan't\", 'shouldn', \"shouldn't\", 'wasn', \"wasn't\", 'weren', \"weren't\", 'won', \"won't\", 'wouldn', \"wouldn't\"]\n"
     ]
    }
   ],
   "source": [
    "stop_words = stopwords.words('english')\n",
    "print(\"Number of stopwords:\", len(stop_words))\n",
    "print(\"Stopwords list:\", stop_words)"
   ]
  },
  {
   "cell_type": "code",
   "execution_count": 221,
   "id": "2079567d",
   "metadata": {
    "ExecuteTime": {
     "end_time": "2025-01-14T15:34:02.600194Z",
     "start_time": "2025-01-14T15:34:02.591178Z"
    }
   },
   "outputs": [],
   "source": [
    "stop_words = set(stopwords.words('english')) - {'all', 'any', 'each', 'few', 'more', 'most', 'only', 'too', 'very'}"
   ]
  },
  {
   "cell_type": "code",
   "execution_count": 222,
   "id": "43af039e",
   "metadata": {
    "ExecuteTime": {
     "end_time": "2025-01-14T15:34:26.070935Z",
     "start_time": "2025-01-14T15:34:03.108367Z"
    }
   },
   "outputs": [],
   "source": [
    "lemmatizer = WordNetLemmatizer()\n",
    "\n",
    "def preprocess_text(text):\n",
    "    if not isinstance(text, str):\n",
    "        return \"\"\n",
    "    \n",
    "    text = text.lower()\n",
    "    text = text.translate(str.maketrans('', '', string.punctuation.replace('!', '').replace('$', '').replace('€', '').replace('¥', '')))\n",
    "\n",
    "    words = nltk.word_tokenize(text)\n",
    "    words = [lemmatizer.lemmatize(word) for word in words if word.isalpha() or word in {'!', '$', '€', '¥'}]\n",
    "    words = [word for word in words if word not in stop_words]\n",
    "\n",
    "    return ' '.join(words)\n",
    "\n",
    "balanced_df['Processed_Message'] = balanced_df['Message'].apply(preprocess_text)"
   ]
  },
  {
   "cell_type": "code",
   "execution_count": 223,
   "id": "f622fed8",
   "metadata": {
    "ExecuteTime": {
     "end_time": "2025-01-14T15:34:28.848044Z",
     "start_time": "2025-01-14T15:34:28.839044Z"
    }
   },
   "outputs": [
    {
     "data": {
      "text/html": [
       "<div>\n",
       "<style scoped>\n",
       "    .dataframe tbody tr th:only-of-type {\n",
       "        vertical-align: middle;\n",
       "    }\n",
       "\n",
       "    .dataframe tbody tr th {\n",
       "        vertical-align: top;\n",
       "    }\n",
       "\n",
       "    .dataframe thead th {\n",
       "        text-align: right;\n",
       "    }\n",
       "</style>\n",
       "<table border=\"1\" class=\"dataframe\">\n",
       "  <thead>\n",
       "    <tr style=\"text-align: right;\">\n",
       "      <th></th>\n",
       "      <th>Category</th>\n",
       "      <th>Message</th>\n",
       "      <th>Processed_Message</th>\n",
       "    </tr>\n",
       "  </thead>\n",
       "  <tbody>\n",
       "    <tr>\n",
       "      <th>0</th>\n",
       "      <td>0</td>\n",
       "      <td>Folks,\\n \\nmy first time posting - have a bit ...</td>\n",
       "      <td>folk first time posting bit unix experience ne...</td>\n",
       "    </tr>\n",
       "    <tr>\n",
       "      <th>1</th>\n",
       "      <td>1</td>\n",
       "      <td>download faster hows it been going ? make your...</td>\n",
       "      <td>download faster hows going make ordinary k mod...</td>\n",
       "    </tr>\n",
       "    <tr>\n",
       "      <th>2</th>\n",
       "      <td>0</td>\n",
       "      <td>dialectal variation harold orton centenary con...</td>\n",
       "      <td>dialectal variation harold orton centenary con...</td>\n",
       "    </tr>\n",
       "    <tr>\n",
       "      <th>3</th>\n",
       "      <td>1</td>\n",
       "      <td>re : here is our opportunity carey dusenburyco...</td>\n",
       "      <td>opportunity carey dusenburycongeal banish taxi...</td>\n",
       "    </tr>\n",
       "    <tr>\n",
       "      <th>4</th>\n",
       "      <td>0</td>\n",
       "      <td>sum : representing retroflex summary : represe...</td>\n",
       "      <td>sum representing retroflex summary representin...</td>\n",
       "    </tr>\n",
       "    <tr>\n",
       "      <th>...</th>\n",
       "      <td>...</td>\n",
       "      <td>...</td>\n",
       "      <td>...</td>\n",
       "    </tr>\n",
       "    <tr>\n",
       "      <th>16145</th>\n",
       "      <td>1</td>\n",
       "      <td>re : cereal i did not talk with pete for long ...</td>\n",
       "      <td>cereal talk pete long got email yesterday said...</td>\n",
       "    </tr>\n",
       "    <tr>\n",
       "      <th>16146</th>\n",
       "      <td>0</td>\n",
       "      <td>calpine force majeure attached is a summary of...</td>\n",
       "      <td>calpine force majeure attached summary day cal...</td>\n",
       "    </tr>\n",
       "    <tr>\n",
       "      <th>16147</th>\n",
       "      <td>0</td>\n",
       "      <td>baltics 1998 baltics 1998 - - - first announce...</td>\n",
       "      <td>baltic baltic first announcement intensive lan...</td>\n",
       "    </tr>\n",
       "    <tr>\n",
       "      <th>16148</th>\n",
       "      <td>1</td>\n",
       "      <td>Adult 18 Content Your video will be with you s...</td>\n",
       "      <td>adult content video shortly</td>\n",
       "    </tr>\n",
       "    <tr>\n",
       "      <th>16149</th>\n",
       "      <td>0</td>\n",
       "      <td>Hello fork,  So they have Aaron Schwartz on NP...</td>\n",
       "      <td>hello fork aaron schwartz nprs weekend edition...</td>\n",
       "    </tr>\n",
       "  </tbody>\n",
       "</table>\n",
       "<p>16150 rows × 3 columns</p>\n",
       "</div>"
      ],
      "text/plain": [
       "       Category                                            Message  \\\n",
       "0             0  Folks,\\n \\nmy first time posting - have a bit ...   \n",
       "1             1  download faster hows it been going ? make your...   \n",
       "2             0  dialectal variation harold orton centenary con...   \n",
       "3             1  re : here is our opportunity carey dusenburyco...   \n",
       "4             0  sum : representing retroflex summary : represe...   \n",
       "...         ...                                                ...   \n",
       "16145         1  re : cereal i did not talk with pete for long ...   \n",
       "16146         0  calpine force majeure attached is a summary of...   \n",
       "16147         0  baltics 1998 baltics 1998 - - - first announce...   \n",
       "16148         1  Adult 18 Content Your video will be with you s...   \n",
       "16149         0  Hello fork,  So they have Aaron Schwartz on NP...   \n",
       "\n",
       "                                       Processed_Message  \n",
       "0      folk first time posting bit unix experience ne...  \n",
       "1      download faster hows going make ordinary k mod...  \n",
       "2      dialectal variation harold orton centenary con...  \n",
       "3      opportunity carey dusenburycongeal banish taxi...  \n",
       "4      sum representing retroflex summary representin...  \n",
       "...                                                  ...  \n",
       "16145  cereal talk pete long got email yesterday said...  \n",
       "16146  calpine force majeure attached summary day cal...  \n",
       "16147  baltic baltic first announcement intensive lan...  \n",
       "16148                        adult content video shortly  \n",
       "16149  hello fork aaron schwartz nprs weekend edition...  \n",
       "\n",
       "[16150 rows x 3 columns]"
      ]
     },
     "execution_count": 223,
     "metadata": {},
     "output_type": "execute_result"
    }
   ],
   "source": [
    "balanced_df"
   ]
  },
  {
   "cell_type": "code",
   "execution_count": null,
   "id": "6ebcc189",
   "metadata": {},
   "outputs": [],
   "source": []
  },
  {
   "cell_type": "code",
   "execution_count": 224,
   "id": "103a1001",
   "metadata": {
    "ExecuteTime": {
     "end_time": "2025-01-14T15:34:35.501677Z",
     "start_time": "2025-01-14T15:34:35.484682Z"
    }
   },
   "outputs": [],
   "source": [
    "keyword_dict = {\n",
    "    \"lure\": {\n",
    "        \"low\": [\"free\", \"offer\", \"deal\", \"discount\", \"gift\", \"limited\", \"exclusive\", \"$\", \"€\", \"¥\"], \n",
    "        \"medium\": [\"prize\", \"exclusive\", \"romantic\", \"sex\", \"dating\", \"date\", \"opportunity\"],\n",
    "        \"high\": [\"jackpot\", \"win big\", \"life-changing\", \"perfect match\", \"irresistible\", \"secret\", \"unlimited\"]\n",
    "    },\n",
    "    \"urgency\": {\n",
    "        \"low\": [\"soon\", \"act\", \"hurry\", \"quick\", \"soon\", \"today\"], \n",
    "        \"medium\": [\"urgent\", \"limited\", \"exclusive\", \"last chance\", \"don’t miss\", \"only available\", \"flash sale\", \"this week\"],\n",
    "        \"high\": [\"!\", \"now\", \"immediately\", \"hurry up\", \"act fast\", \"don’t wait\", \"time’s running out\", \"offer ends\", \"limited stock\", \"rush\", \"grab now\", \"quickly\", \"final call\"],\n",
    "    },\n",
    "}"
   ]
  },
  {
   "cell_type": "code",
   "execution_count": 225,
   "id": "8f16a76a",
   "metadata": {
    "ExecuteTime": {
     "end_time": "2025-01-14T15:35:22.741210Z",
     "start_time": "2025-01-14T15:35:20.096299Z"
    }
   },
   "outputs": [],
   "source": [
    "balanced_df['lure_score'] = 0\n",
    "balanced_df['urgency_score'] = 0\n",
    "\n",
    "def calculate_scores(text):\n",
    "    lure_score = 0\n",
    "    urgency_score = 0\n",
    "\n",
    "    for level, words in keyword_dict['lure'].items():\n",
    "        for word in words:\n",
    "            if word in text:\n",
    "                if level == \"low\":\n",
    "                    lure_score += 1\n",
    "                elif level == \"medium\":\n",
    "                    lure_score += 2\n",
    "                elif level == \"high\":\n",
    "                    lure_score += 3\n",
    "\n",
    "    for level, words in keyword_dict['urgency'].items():\n",
    "        for word in words:\n",
    "            if word in text:\n",
    "                if level == \"low\":\n",
    "                    urgency_score += 1\n",
    "                elif level == \"medium\":\n",
    "                    urgency_score += 2\n",
    "                elif level == \"high\":\n",
    "                    urgency_score += 3\n",
    "\n",
    "    return lure_score, urgency_score\n",
    "\n",
    "balanced_df[['lure_score', 'urgency_score']] = balanced_df['Processed_Message'].apply(lambda text: pd.Series(calculate_scores(text)))"
   ]
  },
  {
   "cell_type": "code",
   "execution_count": 226,
   "id": "8b9e7aa1",
   "metadata": {
    "ExecuteTime": {
     "end_time": "2025-01-14T15:35:56.965963Z",
     "start_time": "2025-01-14T15:35:56.942961Z"
    }
   },
   "outputs": [],
   "source": [
    "n_bins = 3\n",
    "balanced_df['lure_level'] = pd.cut(balanced_df['lure_score'], bins=n_bins, labels=[\"low\", \"medium\", \"high\"])\n",
    "balanced_df['urgency_level'] = pd.cut(balanced_df['urgency_score'], bins=n_bins, labels=[\"low\", \"medium\", \"high\"])"
   ]
  },
  {
   "cell_type": "code",
   "execution_count": 227,
   "id": "68d890d6",
   "metadata": {
    "ExecuteTime": {
     "end_time": "2025-01-14T15:36:03.914173Z",
     "start_time": "2025-01-14T15:36:03.899174Z"
    }
   },
   "outputs": [
    {
     "data": {
      "text/html": [
       "<div>\n",
       "<style scoped>\n",
       "    .dataframe tbody tr th:only-of-type {\n",
       "        vertical-align: middle;\n",
       "    }\n",
       "\n",
       "    .dataframe tbody tr th {\n",
       "        vertical-align: top;\n",
       "    }\n",
       "\n",
       "    .dataframe thead th {\n",
       "        text-align: right;\n",
       "    }\n",
       "</style>\n",
       "<table border=\"1\" class=\"dataframe\">\n",
       "  <thead>\n",
       "    <tr style=\"text-align: right;\">\n",
       "      <th></th>\n",
       "      <th>Category</th>\n",
       "      <th>Message</th>\n",
       "      <th>Processed_Message</th>\n",
       "      <th>lure_score</th>\n",
       "      <th>urgency_score</th>\n",
       "      <th>lure_level</th>\n",
       "      <th>urgency_level</th>\n",
       "    </tr>\n",
       "  </thead>\n",
       "  <tbody>\n",
       "    <tr>\n",
       "      <th>0</th>\n",
       "      <td>0</td>\n",
       "      <td>Folks,\\n \\nmy first time posting - have a bit ...</td>\n",
       "      <td>folk first time posting bit unix experience ne...</td>\n",
       "      <td>0</td>\n",
       "      <td>1</td>\n",
       "      <td>low</td>\n",
       "      <td>low</td>\n",
       "    </tr>\n",
       "    <tr>\n",
       "      <th>1</th>\n",
       "      <td>1</td>\n",
       "      <td>download faster hows it been going ? make your...</td>\n",
       "      <td>download faster hows going make ordinary k mod...</td>\n",
       "      <td>0</td>\n",
       "      <td>3</td>\n",
       "      <td>low</td>\n",
       "      <td>low</td>\n",
       "    </tr>\n",
       "    <tr>\n",
       "      <th>2</th>\n",
       "      <td>0</td>\n",
       "      <td>dialectal variation harold orton centenary con...</td>\n",
       "      <td>dialectal variation harold orton centenary con...</td>\n",
       "      <td>9</td>\n",
       "      <td>11</td>\n",
       "      <td>medium</td>\n",
       "      <td>medium</td>\n",
       "    </tr>\n",
       "    <tr>\n",
       "      <th>3</th>\n",
       "      <td>1</td>\n",
       "      <td>re : here is our opportunity carey dusenburyco...</td>\n",
       "      <td>opportunity carey dusenburycongeal banish taxi...</td>\n",
       "      <td>2</td>\n",
       "      <td>0</td>\n",
       "      <td>low</td>\n",
       "      <td>low</td>\n",
       "    </tr>\n",
       "    <tr>\n",
       "      <th>4</th>\n",
       "      <td>0</td>\n",
       "      <td>sum : representing retroflex summary : represe...</td>\n",
       "      <td>sum representing retroflex summary representin...</td>\n",
       "      <td>0</td>\n",
       "      <td>1</td>\n",
       "      <td>low</td>\n",
       "      <td>low</td>\n",
       "    </tr>\n",
       "  </tbody>\n",
       "</table>\n",
       "</div>"
      ],
      "text/plain": [
       "   Category                                            Message  \\\n",
       "0         0  Folks,\\n \\nmy first time posting - have a bit ...   \n",
       "1         1  download faster hows it been going ? make your...   \n",
       "2         0  dialectal variation harold orton centenary con...   \n",
       "3         1  re : here is our opportunity carey dusenburyco...   \n",
       "4         0  sum : representing retroflex summary : represe...   \n",
       "\n",
       "                                   Processed_Message  lure_score  \\\n",
       "0  folk first time posting bit unix experience ne...           0   \n",
       "1  download faster hows going make ordinary k mod...           0   \n",
       "2  dialectal variation harold orton centenary con...           9   \n",
       "3  opportunity carey dusenburycongeal banish taxi...           2   \n",
       "4  sum representing retroflex summary representin...           0   \n",
       "\n",
       "   urgency_score lure_level urgency_level  \n",
       "0              1        low           low  \n",
       "1              3        low           low  \n",
       "2             11     medium        medium  \n",
       "3              0        low           low  \n",
       "4              1        low           low  "
      ]
     },
     "execution_count": 227,
     "metadata": {},
     "output_type": "execute_result"
    }
   ],
   "source": [
    "balanced_df.head()"
   ]
  },
  {
   "cell_type": "code",
   "execution_count": 228,
   "id": "7991fe9a",
   "metadata": {
    "ExecuteTime": {
     "end_time": "2025-01-14T15:36:32.496200Z",
     "start_time": "2025-01-14T15:36:32.487205Z"
    }
   },
   "outputs": [],
   "source": [
    "balanced_df['lure_level'] = balanced_df['lure_level'].map({\"low\": 0, \"medium\": 1, \"high\": 2})\n",
    "balanced_df['urgency_level'] = balanced_df['urgency_level'].map({\"low\": 0, \"medium\": 1, \"high\": 2})"
   ]
  },
  {
   "cell_type": "code",
   "execution_count": 229,
   "id": "28a7c3da",
   "metadata": {
    "ExecuteTime": {
     "end_time": "2025-01-14T15:38:21.276883Z",
     "start_time": "2025-01-14T15:38:21.245885Z"
    }
   },
   "outputs": [],
   "source": [
    "from sklearn.preprocessing import OneHotEncoder\n",
    "encoder = OneHotEncoder(sparse_output=False, handle_unknown='ignore')\n",
    "encoded_features = encoder.fit_transform(balanced_df[['lure_level', 'urgency_level']])\n",
    "X_additional = np.hstack([balanced_df[['lure_level', 'urgency_level']].values, encoded_features])"
   ]
  },
  {
   "cell_type": "code",
   "execution_count": 231,
   "id": "3681b7d7",
   "metadata": {
    "ExecuteTime": {
     "end_time": "2025-01-14T15:38:58.922042Z",
     "start_time": "2025-01-14T15:38:58.909025Z"
    }
   },
   "outputs": [],
   "source": [
    "X_additional = X_additional.astype(np.float64)"
   ]
  },
  {
   "cell_type": "code",
   "execution_count": null,
   "id": "65d3632c",
   "metadata": {},
   "outputs": [],
   "source": []
  },
  {
   "cell_type": "code",
   "execution_count": 236,
   "id": "45c1d612",
   "metadata": {
    "ExecuteTime": {
     "end_time": "2025-01-14T16:06:37.302943Z",
     "start_time": "2025-01-14T16:06:37.292944Z"
    }
   },
   "outputs": [],
   "source": [
    "from sklearn.feature_extraction.text import TfidfVectorizer\n",
    "from sklearn.model_selection import train_test_split\n",
    "from sklearn.naive_bayes import MultinomialNB\n",
    "from sklearn.metrics import precision_score, recall_score, f1_score, accuracy_score, confusion_matrix\n",
    "import numpy as np\n",
    "from scipy.stats import chi2_contingency\n",
    "from scipy.sparse import hstack, csr_matrix\n",
    "from sklearn.ensemble import RandomForestClassifier\n",
    "from sklearn.neural_network import MLPClassifier"
   ]
  },
  {
   "cell_type": "code",
   "execution_count": 238,
   "id": "6591cd0b",
   "metadata": {
    "ExecuteTime": {
     "end_time": "2025-01-14T16:11:05.202664Z",
     "start_time": "2025-01-14T16:11:05.195646Z"
    }
   },
   "outputs": [],
   "source": [
    "def evaluate_model(y_test, y_pred):\n",
    "    precision = precision_score(y_test, y_pred)\n",
    "    recall = recall_score(y_test, y_pred)\n",
    "    f1 = f1_score(y_test, y_pred)\n",
    "    accuracy = accuracy_score(y_test, y_pred)\n",
    "\n",
    "    tn, fp, fn, tp = confusion_matrix(y_test, y_pred).ravel()\n",
    "\n",
    "    print(f\"Precision: {precision:.2f}\")\n",
    "    print(f\"Recall: {recall:.2f}\")\n",
    "    print(f\"F1 Score: {f1:.2f}\")\n",
    "    print(f\"Accuracy: {accuracy:.2f}\")\n",
    "    print(f\"False Positives (FP): {fp}\")\n",
    "    print(f\"False Negatives (FN): {fn}\")"
   ]
  },
  {
   "cell_type": "code",
   "execution_count": 237,
   "id": "f85a88dd",
   "metadata": {
    "ExecuteTime": {
     "end_time": "2025-01-14T16:07:17.241020Z",
     "start_time": "2025-01-14T16:07:15.524311Z"
    }
   },
   "outputs": [],
   "source": [
    "n_train = int(len(balanced_df) * 0.7)\n",
    "\n",
    "vectorizer = TfidfVectorizer()  \n",
    "X_tfidf = vectorizer.fit_transform(balanced_df['Processed_Message'])\n",
    "X_tfidf_train = X_tfidf[:n_train]  \n",
    "X_tfidf_test = X_tfidf[n_train:]\n",
    "\n",
    "X_combined = hstack([X_tfidf, X_additional]) \n",
    "X_combined = csr_matrix(X_combined)\n",
    "X_combined_train = X_combined[:n_train]\n",
    "X_combined_test = X_combined[n_train:]\n",
    "\n",
    "y = balanced_df['Category']\n",
    "y_train = y.iloc[:n_train].values  \n",
    "y_test = y.iloc[n_train:].values"
   ]
  },
  {
   "cell_type": "code",
   "execution_count": 242,
   "id": "c6a955e2",
   "metadata": {
    "ExecuteTime": {
     "end_time": "2025-01-14T16:13:45.948810Z",
     "start_time": "2025-01-14T16:13:45.908815Z"
    }
   },
   "outputs": [
    {
     "name": "stdout",
     "output_type": "stream",
     "text": [
      "Precision: 0.91\n",
      "Recall: 0.97\n",
      "F1 Score: 0.94\n",
      "Accuracy: 0.94\n",
      "False Positives (FP): 225\n",
      "False Negatives (FN): 74\n"
     ]
    }
   ],
   "source": [
    "# NB only tfidf\n",
    "model_tfidf = MultinomialNB()\n",
    "model_tfidf.fit(X_tfidf_train, y_train)\n",
    "y_pred = model_tfidf.predict(X_tfidf_test)\n",
    "evaluate_model(y_test, y_pred)"
   ]
  },
  {
   "cell_type": "code",
   "execution_count": 243,
   "id": "33ebb4c7",
   "metadata": {
    "ExecuteTime": {
     "end_time": "2025-01-14T16:14:01.392169Z",
     "start_time": "2025-01-14T16:14:01.358046Z"
    }
   },
   "outputs": [
    {
     "name": "stdout",
     "output_type": "stream",
     "text": [
      "Precision: 0.92\n",
      "Recall: 0.95\n",
      "F1 Score: 0.94\n",
      "Accuracy: 0.94\n",
      "False Positives (FP): 195\n",
      "False Negatives (FN): 111\n"
     ]
    }
   ],
   "source": [
    "# NB combine\n",
    "model_combine = MultinomialNB()\n",
    "model_combine.fit(X_combined_train, y_train)\n",
    "y_pred = model_combine.predict(X_combined_test)\n",
    "evaluate_model(y_test, y_pred)"
   ]
  },
  {
   "cell_type": "code",
   "execution_count": 244,
   "id": "ecd94310",
   "metadata": {
    "ExecuteTime": {
     "end_time": "2025-01-14T16:15:56.993077Z",
     "start_time": "2025-01-14T16:14:48.305795Z"
    }
   },
   "outputs": [
    {
     "name": "stdout",
     "output_type": "stream",
     "text": [
      "Precision: 0.94\n",
      "Recall: 0.96\n",
      "F1 Score: 0.95\n",
      "Accuracy: 0.95\n",
      "False Positives (FP): 144\n",
      "False Negatives (FN): 99\n"
     ]
    }
   ],
   "source": [
    "# RF only tfidf\n",
    "model_tfidf = RandomForestClassifier(random_state=42)\n",
    "model_tfidf.fit(X_tfidf_train, y_train)\n",
    "y_pred = model_tfidf.predict(X_tfidf_test)\n",
    "evaluate_model(y_test, y_pred)"
   ]
  },
  {
   "cell_type": "code",
   "execution_count": 245,
   "id": "51b534b0",
   "metadata": {
    "ExecuteTime": {
     "end_time": "2025-01-14T16:17:04.870770Z",
     "start_time": "2025-01-14T16:15:56.996096Z"
    }
   },
   "outputs": [
    {
     "name": "stdout",
     "output_type": "stream",
     "text": [
      "Precision: 0.94\n",
      "Recall: 0.96\n",
      "F1 Score: 0.95\n",
      "Accuracy: 0.95\n",
      "False Positives (FP): 148\n",
      "False Negatives (FN): 99\n"
     ]
    }
   ],
   "source": [
    "# RF combine\n",
    "model_combine = RandomForestClassifier(random_state=42)\n",
    "model_combine.fit(X_combined_train, y_train)\n",
    "y_pred = model_combine.predict(X_combined_test)\n",
    "evaluate_model(y_test, y_pred)"
   ]
  },
  {
   "cell_type": "code",
   "execution_count": 246,
   "id": "56f6ce00",
   "metadata": {
    "ExecuteTime": {
     "end_time": "2025-01-14T16:48:32.311801Z",
     "start_time": "2025-01-14T16:17:04.872769Z"
    }
   },
   "outputs": [
    {
     "name": "stdout",
     "output_type": "stream",
     "text": [
      "Precision: 0.93\n",
      "Recall: 0.96\n",
      "F1 Score: 0.95\n",
      "Accuracy: 0.95\n",
      "False Positives (FP): 175\n",
      "False Negatives (FN): 86\n"
     ]
    }
   ],
   "source": [
    "# MLP only tfidf\n",
    "model_tfidf = MLPClassifier(hidden_layer_sizes=(100,), max_iter=500, random_state=42)\n",
    "model_tfidf.fit(X_tfidf_train, y_train)\n",
    "y_pred = model_tfidf.predict(X_tfidf_test)\n",
    "evaluate_model(y_test, y_pred)"
   ]
  },
  {
   "cell_type": "code",
   "execution_count": 247,
   "id": "a0206637",
   "metadata": {
    "ExecuteTime": {
     "end_time": "2025-01-14T17:17:07.763401Z",
     "start_time": "2025-01-14T16:48:32.314746Z"
    }
   },
   "outputs": [
    {
     "name": "stdout",
     "output_type": "stream",
     "text": [
      "Precision: 0.92\n",
      "Recall: 0.97\n",
      "F1 Score: 0.95\n",
      "Accuracy: 0.94\n",
      "False Positives (FP): 197\n",
      "False Negatives (FN): 75\n"
     ]
    }
   ],
   "source": [
    "# MLP combine\n",
    "model_combine = MLPClassifier(hidden_layer_sizes=(100,), max_iter=500, random_state=42)\n",
    "model_combine.fit(X_combined_train, y_train)\n",
    "y_pred = model_combine.predict(X_combined_test)\n",
    "evaluate_model(y_test, y_pred)"
   ]
  },
  {
   "cell_type": "code",
   "execution_count": null,
   "id": "893e19d3",
   "metadata": {},
   "outputs": [],
   "source": []
  }
 ],
 "metadata": {
  "kernelspec": {
   "display_name": "Text Mining Environment",
   "language": "python",
   "name": "text_mining"
  },
  "language_info": {
   "codemirror_mode": {
    "name": "ipython",
    "version": 3
   },
   "file_extension": ".py",
   "mimetype": "text/x-python",
   "name": "python",
   "nbconvert_exporter": "python",
   "pygments_lexer": "ipython3",
   "version": "3.10.15"
  }
 },
 "nbformat": 4,
 "nbformat_minor": 5
}
